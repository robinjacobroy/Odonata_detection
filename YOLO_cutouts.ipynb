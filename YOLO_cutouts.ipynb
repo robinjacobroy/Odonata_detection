{
  "nbformat": 4,
  "nbformat_minor": 0,
  "metadata": {
    "colab": {
      "name": "YOLO_cutouts.ipynb",
      "provenance": [],
      "include_colab_link": true
    },
    "kernelspec": {
      "name": "python3",
      "display_name": "Python 3"
    },
    "accelerator": "GPU"
  },
  "cells": [
    {
      "cell_type": "markdown",
      "metadata": {
        "id": "view-in-github",
        "colab_type": "text"
      },
      "source": [
        "<a href=\"https://colab.research.google.com/github/robinjacobroy/Odonates/blob/master/YOLO_cutouts.ipynb\" target=\"_parent\"><img src=\"https://colab.research.google.com/assets/colab-badge.svg\" alt=\"Open In Colab\"/></a>"
      ]
    },
    {
      "cell_type": "code",
      "metadata": {
        "id": "FFt7SDOb_lQn",
        "colab_type": "code",
        "outputId": "9ea4c807-ecd4-4eaf-8284-05d949679bb3",
        "colab": {
          "base_uri": "https://localhost:8080/",
          "height": 34
        }
      },
      "source": [
        "from google.colab import drive\n",
        "drive.mount('/gdrive')"
      ],
      "execution_count": 0,
      "outputs": [
        {
          "output_type": "stream",
          "text": [
            "Mounted at /gdrive\n"
          ],
          "name": "stdout"
        }
      ]
    },
    {
      "cell_type": "code",
      "metadata": {
        "id": "f5ZuXmjXAC6n",
        "colab_type": "code",
        "outputId": "958f09e7-c360-4b3e-9a81-a8f3ef4bdbc5",
        "colab": {
          "base_uri": "https://localhost:8080/",
          "height": 34
        }
      },
      "source": [
        "%cd /gdrive/My\\ Drive"
      ],
      "execution_count": 0,
      "outputs": [
        {
          "output_type": "stream",
          "text": [
            "/gdrive/My Drive\n"
          ],
          "name": "stdout"
        }
      ]
    },
    {
      "cell_type": "code",
      "metadata": {
        "id": "g6d8jRnvKpNa",
        "colab_type": "code",
        "outputId": "b56ddc75-3f5b-4192-ddac-1f781a45571f",
        "colab": {
          "base_uri": "https://localhost:8080/",
          "height": 34
        }
      },
      "source": [
        "%cd YOLO/"
      ],
      "execution_count": 0,
      "outputs": [
        {
          "output_type": "stream",
          "text": [
            "/gdrive/My Drive/YOLO\n"
          ],
          "name": "stdout"
        }
      ]
    },
    {
      "cell_type": "code",
      "metadata": {
        "id": "XPa-uFe90C6V",
        "colab_type": "code",
        "colab": {}
      },
      "source": [
        "!ls ../Uppukulam2/ > uppukulam2.txt\n",
        "%pycat uppukulam2.txt"
      ],
      "execution_count": 0,
      "outputs": []
    },
    {
      "cell_type": "code",
      "metadata": {
        "id": "DQQsri-_B3D4",
        "colab_type": "code",
        "colab": {}
      },
      "source": [
        "cp ../Makefile ."
      ],
      "execution_count": 0,
      "outputs": []
    },
    {
      "cell_type": "code",
      "metadata": {
        "id": "IEY6lT3fBLIg",
        "colab_type": "code",
        "colab": {}
      },
      "source": [
        "!make"
      ],
      "execution_count": 0,
      "outputs": []
    },
    {
      "cell_type": "code",
      "metadata": {
        "id": "2FQ_LyONBZN-",
        "colab_type": "code",
        "outputId": "f0494349-1533-4219-a06f-a4861bc4d2c2",
        "colab": {
          "base_uri": "https://localhost:8080/",
          "height": 34
        }
      },
      "source": [
        "!./darknet"
      ],
      "execution_count": 0,
      "outputs": [
        {
          "output_type": "stream",
          "text": [
            "usage: ./darknet <function>\n"
          ],
          "name": "stdout"
        }
      ]
    },
    {
      "cell_type": "code",
      "metadata": {
        "id": "FSjLoLkwVYHX",
        "colab_type": "code",
        "colab": {}
      },
      "source": [
        "#darknet.exe detector test cfg/coco.data cfg/yolov3.cfg yolov3.weights -thresh 0.25 -dont_show -save_labels < data/new_train.txt"
      ],
      "execution_count": 0,
      "outputs": []
    },
    {
      "cell_type": "code",
      "metadata": {
        "id": "4Scc4AQIVYjb",
        "colab_type": "code",
        "colab": {}
      },
      "source": [
        "!./darknet detector test data/odonata.data yolov3-odonata-test.cfg backup/yolov3-odonata_final.weights -thresh 0.25 -dont_show -save_labels < uppukulam2.txt"
      ],
      "execution_count": 0,
      "outputs": []
    },
    {
      "cell_type": "code",
      "metadata": {
        "id": "RRsWoZS-63D1",
        "colab_type": "code",
        "outputId": "6a1ce537-eb68-4b27-801e-d7fac942de65",
        "colab": {
          "base_uri": "https://localhost:8080/",
          "height": 34
        }
      },
      "source": [
        "ls boxed/ | wc -l"
      ],
      "execution_count": 0,
      "outputs": [
        {
          "output_type": "stream",
          "text": [
            "0\n"
          ],
          "name": "stdout"
        }
      ]
    },
    {
      "cell_type": "code",
      "metadata": {
        "id": "VIjAf9VeTHCl",
        "colab_type": "code",
        "colab": {}
      },
      "source": [
        "#code to crop out odonates from YOLO predicitions\n",
        "\n",
        "\n",
        "import os,cv2,csv,argparse\n",
        "import numpy as np\n",
        "from matplotlib import pyplot as plt\n",
        "\n",
        "    \n",
        "            \n",
        "input_dir=\"./darknet-master/data/odonata/\"\n",
        "out_dir=\"./boxed/\"\n",
        "\n",
        "for fln in sorted(os.listdir(input_dir)):\n",
        "  if fln.startswith(\"DSC\") and fln.endswith(\".jpg\"):\n",
        "    #print(os.path.join(input_dir,fln))\n",
        "    im=cv2.imread(os.path.join(input_dir,fln))\n",
        "    #print(im.shape)\n",
        "    W=im.shape[1]\n",
        "    H=im.shape[0]\n",
        "    lst=[]\n",
        "    try:\n",
        "      with open(os.path.join(input_dir,fln.replace(\".jpg\",\".txt\"))) as cs:\n",
        "        red=csv.reader(cs,delimiter=' ')\n",
        "        for itm in red:\n",
        "          lst=list(map(float,itm))\n",
        "    except:\n",
        "      pass\n",
        "    if not len(lst)==0:\n",
        "  \n",
        "      #center coordinates of the bounding box\n",
        "      x=lst[1]*W\n",
        "      y=lst[2]*H\n",
        "\n",
        "\n",
        "      #width and height of the bounding box\n",
        "      w=lst[3]*W\n",
        "      h=lst[4]*H\n",
        "      \n",
        "      #start and end points of the bounding box\n",
        "      start_x=int(x-w/2)\n",
        "      start_y=int(y-h/2)\n",
        "\n",
        "      end_x=int(x+w/2)\n",
        "      end_y=int(y+w/2)\n",
        "\n",
        "      #crop image\n",
        "      #im_crop=im[start_y:end_y,start_x:end_x]\n",
        "      cv2.rectangle(im,(start_x,start_y),(end_x,end_y),(0,0,255),thickness=10)\n",
        "      #plt.imsave(os.path.join(out_dir,fln),im_crop)\n",
        "      cv2.imwrite(os.path.join(out_dir,fln),im)\n",
        "      #cv2.imwrite(\"./results_crop/{}\".format(fln),im_crop)\n",
        "      \n",
        "    "
      ],
      "execution_count": 0,
      "outputs": []
    },
    {
      "cell_type": "code",
      "metadata": {
        "id": "if2VnXF_Biio",
        "colab_type": "code",
        "colab": {}
      },
      "source": [
        "#code to mask odonates using sobel operation\n",
        "\n",
        "import os,cv2,csv,argparse\n",
        "import numpy as np\n",
        "from matplotlib import pyplot as plt\n",
        "from PIL import Image\n",
        "           \n",
        "            \n",
        "input_dir=\"./nattakom_field/\"\n",
        "out_dir=\"./results_sobel/\"\n",
        "\n",
        "\n",
        "for fln in sorted(os.listdir(input_dir)):\n",
        "  if fln.endswith(\".jpg\"):\n",
        "    im=cv2.imread(os.path.join(input_dir,fln))\n",
        "    img=im.copy()\n",
        "    W=im.shape[1]\n",
        "    H=im.shape[0]\n",
        "    lst=[]\n",
        "    try:\n",
        "      with open(os.path.join(input_dir,fln.replace(\".jpg\",\".txt\"))) as cs:\n",
        "        red=csv.reader(cs,delimiter=' ')\n",
        "        for itm in red:\n",
        "          lst=list(map(float,itm))\n",
        "    except:\n",
        "      pass\n",
        "    if not len(lst)==0:\n",
        "  \n",
        "      #center coordinates of the bounding box\n",
        "      x=lst[1]*W\n",
        "      y=lst[2]*H\n",
        "\n",
        "\n",
        "      #width and height of the bounding box\n",
        "      w=lst[3]*W\n",
        "      h=lst[4]*H\n",
        "      \n",
        "      #start and end points of the bounding box\n",
        "      start_x=int(x-w/2)\n",
        "      start_y=int(y-h/2)\n",
        "\n",
        "      end_x=int(x+w/2)\n",
        "      end_y=int(y+w/2)\n",
        "\n",
        "      #crop image\n",
        "      im_crop=im[start_y:end_y,start_x:end_x].copy()\n",
        "      \n",
        "    \n",
        "      ddepth = cv2.CV_16S\n",
        "    \n",
        "      src = cv2.GaussianBlur(im_crop, (7, 7), 0)\n",
        "      gray = cv2.cvtColor(src, cv2.COLOR_BGR2GRAY)\n",
        "      # Gradient-X\n",
        "      #grad_x = cv2.Scharr(gray,ddepth,1,0)\n",
        "      grad_x = cv2.Sobel(gray, ddepth, 1, 0, ksize=3, scale=1, delta=0, borderType=cv2.BORDER_DEFAULT)\n",
        "      # Gradient-Y\n",
        "      grad_y = cv2.Scharr(gray,ddepth,0,1)\n",
        "      #grad_y = cv2.Sobel(gray, ddepth, 0, 1, ksize=3, scale=1, delta=0, borderType=cv2.BORDER_DEFAULT)\n",
        "    \n",
        "      abs_grad_x = cv2.convertScaleAbs(grad_x)\n",
        "      abs_grad_y = cv2.convertScaleAbs(grad_y)\n",
        "      grad = cv2.addWeighted(abs_grad_x, 0.5, abs_grad_y, 0.5, 0)\n",
        "    \n",
        "      #thresholding the region inside the bounding box\n",
        "      threshMap = cv2.threshold(grad \\\n",
        "                                , 0, 255,cv2.THRESH_BINARY|cv2.THRESH_OTSU)[1]\n",
        "      kernel=cv2.getStructuringElement(cv2.MORPH_ELLIPSE,(15,15))\n",
        "      kernel1=np.ones((15,15),np.uint8)\n",
        "      kernel2=np.ones((3,3),np.uint8)\n",
        "      #morphological operations to make the object mask\n",
        "      dilated=cv2.dilate(threshMap,kernel1,iterations=2)\n",
        "      closing = cv2.morphologyEx(dilated, cv2.MORPH_CLOSE, kernel1)\n",
        "      eroded=cv2.erode(closing,kernel2,iterations=3)\n",
        "      #draw the biggest contour, which could be the object\n",
        "      _,contours,_=cv2.findContours(eroded,cv2.RETR_EXTERNAL,cv2.CHAIN_APPROX_SIMPLE)\n",
        "      drawing=np.ones(dilated.shape,np.uint8)*255\n",
        "      drawing=cv2.cvtColor(drawing,cv2.COLOR_GRAY2BGR)\n",
        "      c=max(contours,key=cv2.contourArea)\n",
        "      cv2.drawContours(drawing,[c],0,(0,0,0),-1)\n",
        "      \n",
        "      final=cv2.bitwise_and(im_crop,drawing)\n",
        "      final[np.where((final==[0,0,0]).all(axis=2))]= [255,0,255] \n",
        "      #output=cv2.hconcat([im_crop,final]) \n",
        "      #paste the masked region inside the cutout to the original image\n",
        "      orig=Image.fromarray(img)\n",
        "      cropped=Image.fromarray(final)\n",
        "      orig.paste(cropped,(start_x,start_y))\n",
        "      cv2.imwrite(os.path.join(out_dir,fln),np.uint8(orig))\n",
        "      "
      ],
      "execution_count": 0,
      "outputs": []
    },
    {
      "cell_type": "code",
      "metadata": {
        "id": "bQUgG_KbCzJB",
        "colab_type": "code",
        "colab": {}
      },
      "source": [
        ""
      ],
      "execution_count": 0,
      "outputs": []
    }
  ]
}