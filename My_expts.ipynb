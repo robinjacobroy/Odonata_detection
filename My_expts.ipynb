{
 "cells": [
  {
   "cell_type": "markdown",
   "metadata": {},
   "source": [
    "Non-Local Means Denoising:\n",
    "we need a set of similar images to average out the noise. "
   ]
  },
  {
   "cell_type": "code",
   "execution_count": 47,
   "metadata": {},
   "outputs": [],
   "source": [
    "import cv2 as cv\n",
    "import numpy as np"
   ]
  },
  {
   "cell_type": "code",
   "execution_count": 69,
   "metadata": {},
   "outputs": [],
   "source": [
    "im=cv2.imread(\"/home/robin/Downloads/DSCN3592.JPG\")\n",
    "#cv2.putText(img,\"Puntius\",(0,500), cv2.FONT_HERSHEY_COMPLEX, 15, (0,255,255),10)\n",
    "\n"
   ]
  },
  {
   "cell_type": "code",
   "execution_count": 52,
   "metadata": {},
   "outputs": [
    {
     "data": {
      "text/plain": [
       "(4000, 6000, 3)"
      ]
     },
     "execution_count": 52,
     "metadata": {},
     "output_type": "execute_result"
    }
   ],
   "source": [
    "im.shape"
   ]
  },
  {
   "cell_type": "code",
   "execution_count": 81,
   "metadata": {},
   "outputs": [],
   "source": [
    "blurred=cv2.blur(im,(5,5))\n",
    "blurred1=cv2.blur(blurred,(5,5))"
   ]
  },
  {
   "cell_type": "code",
   "execution_count": 82,
   "metadata": {},
   "outputs": [],
   "source": [
    "output=blurred-blurred1"
   ]
  },
  {
   "cell_type": "code",
   "execution_count": 83,
   "metadata": {},
   "outputs": [],
   "source": [
    "cv2.namedWindow(\"hi\",cv2.WINDOW_NORMAL)\n",
    "cv2.imshow(\"hi\",output)\n",
    "cv2.waitKey(0)\n",
    "cv2.destroyAllWindows()"
   ]
  },
  {
   "cell_type": "code",
   "execution_count": 48,
   "metadata": {},
   "outputs": [],
   "source": [
    "dst = cv.fastNlMeansDenoisingColored(im,None,20,20,7,25)"
   ]
  },
  {
   "cell_type": "code",
   "execution_count": 49,
   "metadata": {},
   "outputs": [],
   "source": [
    "final=np.hstack([im,dst])"
   ]
  },
  {
   "cell_type": "code",
   "execution_count": 83,
   "metadata": {},
   "outputs": [],
   "source": [
    "output=cv2.bitwise_and(im,im,mask=threshMap)"
   ]
  },
  {
   "cell_type": "code",
   "execution_count": 87,
   "metadata": {},
   "outputs": [],
   "source": [
    "frame=cv2.imread(\"/home/robin/Videos/17dec23b_00003sq_v02_00002hln_v01_00007enn-a-DW.png\")"
   ]
  },
  {
   "cell_type": "code",
   "execution_count": 88,
   "metadata": {},
   "outputs": [],
   "source": [
    "hsv = cv2.cvtColor(frame, cv2.COLOR_BGR2HSV)\n",
    "low = np.array([50, 0,0])\n",
    "high = np.array([179,255,255])\n",
    "mask = cv2.inRange(hsv, low,high)\n",
    "mask=np.invert(mask)"
   ]
  },
  {
   "cell_type": "code",
   "execution_count": 92,
   "metadata": {},
   "outputs": [],
   "source": [
    "out=cv2.bitwise_and(frame,frame,mask=mask)"
   ]
  },
  {
   "cell_type": "code",
   "execution_count": 94,
   "metadata": {},
   "outputs": [],
   "source": [
    "cv2.namedWindow(\"hi\",cv2.WINDOW_NORMAL)\n",
    "cv2.imshow(\"hi\",out)\n",
    "cv2.waitKey(0)\n",
    "cv2.destroyAllWindows()"
   ]
  },
  {
   "cell_type": "code",
   "execution_count": 81,
   "metadata": {},
   "outputs": [],
   "source": [
    "#saliency = cv2.saliency.StaticSaliencyFineGrained_create()\n",
    "#(success, saliencyMap) = saliency.computeSaliency(dst)\n",
    "\n",
    "# if we would like a *binary* map that we could process for contours,\n",
    "# compute convex hull's, extract bounding boxes, etc., we can\n",
    "# additionally threshold the saliency map\n",
    "threshMap = cv2.threshold(saliencyMap, 0, 255,\n",
    "\tcv2.THRESH_BINARY | cv2.THRESH_OTSU)[1]"
   ]
  },
  {
   "cell_type": "code",
   "execution_count": 80,
   "metadata": {},
   "outputs": [],
   "source": [
    "saliency = cv2.saliency.StaticSaliencySpectralResidual_create()\n",
    "(success, saliencyMap) = saliency.computeSaliency(dst)\n",
    "saliencyMap = (saliencyMap * 255).astype(\"uint8\")\n",
    "cv2.namedWindow(\"Output\",cv2.WINDOW_NORMAL)\n",
    "#cv2.imshow(\"Image\", image)\n",
    "cv2.imshow(\"Output\", saliencyMap)\n",
    "cv2.waitKey(0)\n",
    "cv2.destroyAllWindows()"
   ]
  },
  {
   "cell_type": "code",
   "execution_count": null,
   "metadata": {},
   "outputs": [],
   "source": [
    "# %load projectwork/imsearch/saliency-detection/static_saliency.py\n",
    "# USAGE\n",
    "# python static_saliency.py --image images/neymar.jpg\n",
    "\n",
    "# import the necessary packages\n",
    "import argparse\n",
    "import cv2\n",
    "\n",
    "# construct the argument parser and parse the arguments\n",
    "ap = argparse.ArgumentParser()\n",
    "ap.add_argument(\"-i\", \"--image\", required=True,\n",
    "\thelp=\"path to input image\")\n",
    "args = vars(ap.parse_args())\n",
    "\n",
    "# load the input image\n",
    "image = cv2.imread(args[\"image\"])\n",
    "\n",
    "# initialize OpenCV's static saliency spectral residual detector and\n",
    "# compute the saliency map\n",
    "saliency = cv2.saliency.StaticSaliencySpectralResidual_create()\n",
    "(success, saliencyMap) = saliency.computeSaliency(image)\n",
    "saliencyMap = (saliencyMap * 255).astype(\"uint8\")\n",
    "cv2.imshow(\"Image\", image)\n",
    "cv2.imshow(\"Output\", saliencyMap)\n",
    "cv2.waitKey(0)\n",
    "\n",
    "# initialize OpenCV's static fine grained saliency detector and\n",
    "# compute the saliency map\n",
    "saliency = cv2.saliency.StaticSaliencyFineGrained_create()\n",
    "(success, saliencyMap) = saliency.computeSaliency(image)\n",
    "\n",
    "# if we would like a *binary* map that we could process for contours,\n",
    "# compute convex hull's, extract bounding boxes, etc., we can\n",
    "# additionally threshold the saliency map\n",
    "threshMap = cv2.threshold(saliencyMap, 0, 255,\n",
    "\tcv2.THRESH_BINARY | cv2.THRESH_OTSU)[1]\n",
    "\n",
    "# show the images\n",
    "cv2.imshow(\"Image\", image)\n",
    "cv2.imshow(\"Output\", saliencyMap)\n",
    "cv2.imshow(\"Thresh\", threshMap)\n",
    "cv2.waitKey(0)\n",
    "cv2.destroyAllWindows()\n"
   ]
  },
  {
   "cell_type": "code",
   "execution_count": 2,
   "metadata": {},
   "outputs": [],
   "source": [
    "import cv2\n",
    "import numpy as np"
   ]
  },
  {
   "cell_type": "code",
   "execution_count": 15,
   "metadata": {},
   "outputs": [],
   "source": [
    "frame=cv2.imread(\"/home/robin/Pictures/thumbi.png\")#14sep05c_c_00004gr_00031sq_00014hl_00002es_c.png\")"
   ]
  },
  {
   "cell_type": "code",
   "execution_count": 16,
   "metadata": {},
   "outputs": [],
   "source": [
    "img=frame.copy()#[0:2500,0:2500]"
   ]
  },
  {
   "cell_type": "code",
   "execution_count": 17,
   "metadata": {},
   "outputs": [],
   "source": [
    "sobelx = cv2.Sobel(img,cv2.CV_64F,1,0,ksize=-1)\n",
    "sobely = cv2.Sobel(img,cv2.CV_64F,0,1,ksize=5)"
   ]
  },
  {
   "cell_type": "code",
   "execution_count": 18,
   "metadata": {},
   "outputs": [],
   "source": [
    "laplacian = cv2.Laplacian(img,cv2.CV_64F)"
   ]
  },
  {
   "cell_type": "code",
   "execution_count": 29,
   "metadata": {},
   "outputs": [],
   "source": [
    "out=np.hstack([np.uint8(frame),sobelx,laplacian])#sobely])"
   ]
  },
  {
   "cell_type": "code",
   "execution_count": 34,
   "metadata": {},
   "outputs": [],
   "source": [
    "edges = cv2.Canny(frame,100,200)\n",
    "\n"
   ]
  },
  {
   "cell_type": "code",
   "execution_count": 37,
   "metadata": {},
   "outputs": [],
   "source": [
    "_,contours,_=cv2.findContours(edges,cv2.RETR_EXTERNAL,cv2.CHAIN_APPROX_SIMPLE)"
   ]
  },
  {
   "cell_type": "code",
   "execution_count": 38,
   "metadata": {},
   "outputs": [],
   "source": [
    "drawing = np.zeros((frame.shape), dtype=np.uint8)"
   ]
  },
  {
   "cell_type": "code",
   "execution_count": 39,
   "metadata": {},
   "outputs": [],
   "source": [
    "for c in contours:\n",
    "    cv2.drawContours(drawing,[c],0,(0,0,255),-1) "
   ]
  },
  {
   "cell_type": "code",
   "execution_count": 32,
   "metadata": {},
   "outputs": [],
   "source": [
    "out=np.uint8(out)"
   ]
  },
  {
   "cell_type": "code",
   "execution_count": 41,
   "metadata": {},
   "outputs": [],
   "source": [
    "cv2.namedWindow(\"hi\",cv2.WINDOW_NORMAL)\n",
    "\n",
    "cv2.imshow(\"hi\", drawing)\n",
    "cv2.waitKey(0)\n",
    "cv2.destroyAllWindows()"
   ]
  },
  {
   "cell_type": "code",
   "execution_count": null,
   "metadata": {},
   "outputs": [],
   "source": []
  }
 ],
 "metadata": {
  "kernelspec": {
   "display_name": "Python 3",
   "language": "python",
   "name": "python3"
  },
  "language_info": {
   "codemirror_mode": {
    "name": "ipython",
    "version": 3
   },
   "file_extension": ".py",
   "mimetype": "text/x-python",
   "name": "python",
   "nbconvert_exporter": "python",
   "pygments_lexer": "ipython3",
   "version": "3.6.5"
  }
 },
 "nbformat": 4,
 "nbformat_minor": 2
}
